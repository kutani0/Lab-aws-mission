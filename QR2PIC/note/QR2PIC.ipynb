{
 "cells": [
  {
   "cell_type": "code",
   "execution_count": 1,
   "metadata": {},
   "outputs": [
    {
     "name": "stdout",
     "output_type": "stream",
     "text": [
      "Requirement already satisfied: qrcode in /opt/conda/lib/python3.7/site-packages (6.1)\n",
      "Requirement already satisfied: six in /opt/conda/lib/python3.7/site-packages (from qrcode) (1.12.0)\n",
      "Requirement already satisfied: Pillow in /opt/conda/lib/python3.7/site-packages (5.4.1)\n"
     ]
    }
   ],
   "source": [
    "!pip install qrcode\n",
    "!pip install Pillow"
   ]
  },
  {
   "cell_type": "code",
   "execution_count": 3,
   "metadata": {},
   "outputs": [
    {
     "name": "stdout",
     "output_type": "stream",
     "text": [
      "請輸入網址訊息(或其他文字訊息): \n",
      "https://github.com/kutani0\n",
      "==================================================\n",
      "\n",
      "請輸入QRcode圖片名稱(enter默認為test.png): \n",
      "\n",
      "./savepic/test.png 存檔成功...\n",
      "==================================================\n"
     ]
    }
   ],
   "source": [
    "#!/usr/bin/env python3\n",
    "# -*- coding: utf-8 -*-\n",
    "#引用套件\n",
    "import qrcode\n",
    "import os\n",
    "#qrcode細部參數設定\n",
    "qr = qrcode.QRCode(\n",
    "    #表示2維碼的版本(1~40,每加一增加4個尺寸,此吋指的是長寬被分割成幾份)\n",
    "    version=3,\n",
    "    #糾錯容量L級7%,M級15%,Q級25%,H級30%\n",
    "    error_correction=qrcode.constants.ERROR_CORRECT_M,\n",
    "    #生成圖片的像素\n",
    "    box_size=10,\n",
    "    #邊框寬度\n",
    "    border=4,\n",
    ")\n",
    "#=================================================\n",
    "#確定目錄是否存在，若無則新增\n",
    "path =\"./savepic/\"\n",
    "if not os.path.isdir(path):\n",
    "    os.mkdir(path)\n",
    "\n",
    "txt2qr =input(\"請輸入網址訊息(或其他文字訊息): \\n\")\n",
    "print('='*50)#分隔線\n",
    "\n",
    "#將資料導入qr中\n",
    "qr.add_data(txt2qr)\n",
    "qr.make(fit=True)\n",
    "#用make方法產生圖片\n",
    "img = qr.make_image()\n",
    "#確認圖片檔名\n",
    "filename =input(\"\\n請輸入QRcode圖片名稱(enter默認為test.png): \\n\")\n",
    "if filename == \"\":\n",
    "    img.save(str(\"./savepic/test.png\"))\n",
    "    print(\"./savepic/test.png 存檔成功...\")\n",
    "else:\n",
    "    img.save(str(\"./savepic/\"+filename)+\".png\")\n",
    "    print(\"./savepic/\",filename+\".png 存檔成功...\")\n",
    "print('='*50)#分隔線"
   ]
  },
  {
   "cell_type": "code",
   "execution_count": null,
   "metadata": {},
   "outputs": [],
   "source": []
  },
  {
   "cell_type": "code",
   "execution_count": null,
   "metadata": {},
   "outputs": [],
   "source": []
  }
 ],
 "metadata": {
  "kernelspec": {
   "display_name": "Python 3",
   "language": "python",
   "name": "python3"
  },
  "language_info": {
   "codemirror_mode": {
    "name": "ipython",
    "version": 3
   },
   "file_extension": ".py",
   "mimetype": "text/x-python",
   "name": "python",
   "nbconvert_exporter": "python",
   "pygments_lexer": "ipython3",
   "version": "3.7.1"
  }
 },
 "nbformat": 4,
 "nbformat_minor": 2
}
