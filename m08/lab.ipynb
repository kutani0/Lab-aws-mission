{
 "cells": [
  {
   "cell_type": "code",
   "execution_count": null,
   "metadata": {
    "scrolled": true
   },
   "outputs": [
    {
     "name": "stdout",
     "output_type": "stream",
     "text": [
      " * Serving Flask app \"__main__\" (lazy loading)\n",
      " * Environment: production\n",
      "   WARNING: Do not use the development server in a production environment.\n",
      "   Use a production WSGI server instead.\n",
      " * Debug mode: off\n"
     ]
    },
    {
     "name": "stderr",
     "output_type": "stream",
     "text": [
      " * Running on http://0.0.0.0:5000/ (Press CTRL+C to quit)\n"
     ]
    },
    {
     "name": "stdout",
     "output_type": "stream",
     "text": [
      "=================================================\n",
      "test.txt存檔完成~~\n",
      "\n",
      "=================================================\n",
      "目前iii-tutorial-v2桶子中，student17裡面的物件清單:\n",
      "\n",
      "'student17/'\n",
      "'student17/code_deploy_demo.tar'\n",
      "'student17/gundam.html'\n",
      "'student17/gundam.mht'\n",
      "'student17/step1-s4-demo.txt'\n",
      "'student17/test.txt'\n"
     ]
    },
    {
     "name": "stderr",
     "output_type": "stream",
     "text": [
      "10.120.23.17 - - [08/Jan/2019 14:18:38] \"POST / HTTP/1.1\" 200 -\n"
     ]
    },
    {
     "name": "stdout",
     "output_type": "stream",
     "text": [
      "=================================================\n",
      "test2.txt已上傳至student17\n",
      "\n",
      "=================================================\n",
      "目前iii-tutorial-v2桶子中，student17裡面的物件清單:\n",
      "\n",
      "'student17/'\n",
      "'student17/code_deploy_demo.tar'\n",
      "'student17/gundam.html'\n",
      "'student17/gundam.mht'\n",
      "'student17/step1-s4-demo.txt'\n",
      "'student17/test.txt'\n",
      "'student17/test2.txt'\n"
     ]
    }
   ],
   "source": [
    "#引用套件\n",
    "import boto3\n",
    "from pprint import pprint\n",
    "from flask import Flask, request, abort, jsonify\n",
    "#=================================================\n",
    "#flask這個應用的啟動點\n",
    "app = Flask(__name__,static_url_path = \"/images\" , static_folder = \"./images/\" )\n",
    "#為這個啟動點增加訪問路徑/，並定義方法為post\n",
    "@app.route('/',methods=['POST'])\n",
    "#=================================================\n",
    "#用戶能對此端口用POST方法訪問，挾帶任意json body\n",
    "def hello_world():\n",
    "    #將用戶傳過來的request轉成json\n",
    "    t =request.get_json()\n",
    "    #取得用戶json的nickname並組成{'student17':xxxx}\n",
    "    jsonDict = {'student17':t.get('nickname','test ok~~~')}\n",
    "    #=================================================\n",
    "    #將此body轉存成檔案，存在伺服器上\n",
    "    openfile = open('./test.txt','w')\n",
    "    openfile.write(str(jsonDict)+\"\\n\\n\")\n",
    "    openfile.close()\n",
    "    print('=================================================\\ntest.txt存檔完成~~\\n')\n",
    "    #=================================================\n",
    "    #並將此檔案上傳至 iii-tutorial-v2桶內的student{座號}資料夾下\n",
    "    #訪問s3桶子\n",
    "    client = boto3.client(\n",
    "        's3'\n",
    "    )\n",
    "    \n",
    "    #=================================================\n",
    "    #列出s3桶子iii-tutorial-v2物件student17中內的內容\n",
    "    tt=client.list_objects_v2(Bucket='iii-tutorial-v2')['Contents']\n",
    "    print(\"=================================================\\n目前iii-tutorial-v2桶子中，student17裡面的物件清單:\\n\")\n",
    "    for i in range(len(tt)):\n",
    "        check=tt[i]['Key'].find(\"student17\")\n",
    "        if check==0:\n",
    "            pprint(tt[i]['Key'])\n",
    "            \n",
    "    #=================================================\n",
    "    #使用aws中s3的服務\n",
    "    s3resource = boto3.resource('s3')\n",
    "    #使用上傳功能，將step1-s3-demo.txt上傳至iii-network-demo後改名為step1-s4-demo.txt\n",
    "    uploadObject = s3resource.Object('iii-tutorial-v2', 'student17/test2.txt').put(Body=open('./test.txt', 'rb'))\n",
    "    #列印剛剛的結果\n",
    "    print(\"=================================================\\ntest2.txt已上傳至student17\\n\")\n",
    "    \n",
    "    #=================================================\n",
    "    #再次列出s3桶子iii-tutorial-v2物件student17中內的內容\n",
    "    tt=client.list_objects_v2(Bucket='iii-tutorial-v2')['Contents']\n",
    "    print(\"=================================================\\n目前iii-tutorial-v2桶子中，student17裡面的物件清單:\\n\")\n",
    "    for i in range(len(tt)):\n",
    "        check=tt[i]['Key'].find(\"student17\")\n",
    "        if check==0:\n",
    "            pprint(tt[i]['Key'])\n",
    "    #=================================================\n",
    "    return jsonify(jsonDict)\n",
    "\n",
    "if __name__ == \"__main__\":\n",
    "    app.run(host='0.0.0.0')"
   ]
  },
  {
   "cell_type": "code",
   "execution_count": null,
   "metadata": {},
   "outputs": [],
   "source": []
  },
  {
   "cell_type": "code",
   "execution_count": null,
   "metadata": {},
   "outputs": [],
   "source": []
  }
 ],
 "metadata": {
  "kernelspec": {
   "display_name": "Python 3",
   "language": "python",
   "name": "python3"
  },
  "language_info": {
   "codemirror_mode": {
    "name": "ipython",
    "version": 3
   },
   "file_extension": ".py",
   "mimetype": "text/x-python",
   "name": "python",
   "nbconvert_exporter": "python",
   "pygments_lexer": "ipython3",
   "version": "3.7.0"
  }
 },
 "nbformat": 4,
 "nbformat_minor": 2
}
