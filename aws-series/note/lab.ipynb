{
 "cells": [
  {
   "cell_type": "code",
   "execution_count": 1,
   "metadata": {},
   "outputs": [
    {
     "name": "stdout",
     "output_type": "stream",
     "text": [
      "Requirement already satisfied: mariasql in /opt/conda/lib/python3.7/site-packages (4)\n",
      "Requirement already satisfied: pymysql in /opt/conda/lib/python3.7/site-packages (from mariasql) (0.9.3)\n"
     ]
    }
   ],
   "source": [
    "!pip install mariasql"
   ]
  },
  {
   "cell_type": "code",
   "execution_count": 2,
   "metadata": {},
   "outputs": [
    {
     "name": "stdout",
     "output_type": "stream",
     "text": [
      "Requirement already satisfied: PyMySQL in /opt/conda/lib/python3.7/site-packages (0.9.3)\n",
      "=================================================\n",
      "已連結~~\\資料庫版本為： 5.5.5-10.3.12-MariaDB-1:10.3.12+maria~bionic \n",
      "\n"
     ]
    }
   ],
   "source": [
    "#安裝套件\n",
    "!pip install PyMySQL\n",
    "#引用套件\n",
    "import pymysql.cursors\n",
    "#連線資料庫\n",
    "conn = pymysql.connect(host='cc104.rds.local',\n",
    "                             user='root',\n",
    "                             password='hahaha',\n",
    "                             charset='utf8mb4',\n",
    "                             cursorclass=pymysql.cursors.DictCursor)\n",
    "#輸出資料庫版本至畫面上確認\n",
    "print('=================================================\\n已連結~~\\資料庫版本為：',conn.server_version,'\\n')\n",
    "#結束連線\n",
    "conn.close()"
   ]
  },
  {
   "cell_type": "code",
   "execution_count": null,
   "metadata": {},
   "outputs": [],
   "source": []
  }
 ],
 "metadata": {
  "kernelspec": {
   "display_name": "Python 3",
   "language": "python",
   "name": "python3"
  },
  "language_info": {
   "codemirror_mode": {
    "name": "ipython",
    "version": 3
   },
   "file_extension": ".py",
   "mimetype": "text/x-python",
   "name": "python",
   "nbconvert_exporter": "python",
   "pygments_lexer": "ipython3",
   "version": "3.7.1"
  }
 },
 "nbformat": 4,
 "nbformat_minor": 2
}
