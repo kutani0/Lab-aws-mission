{
 "cells": [
  {
   "cell_type": "code",
   "execution_count": 3,
   "metadata": {},
   "outputs": [
    {
     "name": "stdout",
     "output_type": "stream",
     "text": [
      "Requirement already satisfied: PyMySQL in /opt/conda/lib/python3.7/site-packages (0.9.3)\r\n"
     ]
    }
   ],
   "source": [
    "#安裝套件\n",
    "!pip install PyMySQL"
   ]
  },
  {
   "cell_type": "code",
   "execution_count": 5,
   "metadata": {},
   "outputs": [
    {
     "name": "stdout",
     "output_type": "stream",
     "text": [
      "=========================\n",
      "已連結~~\n",
      "Mysql版本為： 8.0.15\n",
      "=========================\n",
      "\n",
      "已重新建立test3资料库~~\n",
      "=========================\n",
      "\n",
      "已重新建立haha資料表~~\n",
      "=========================\n",
      "\n",
      "haha資料表~~已重新加入 5 筆資料\n",
      "=========================\n",
      "\n",
      "原格式資料輸出：\n",
      " ((1, 'Jeo', 18, 'male'), (2, 'Bob', 23, 'male'), (3, 'Mary', 17, 'female'), (4, 'Rose', 25, 'female'), (5, 'Ken', 25, 'male'))\n",
      "=========================\n",
      "格式化輸出:\n",
      "1 Jeo 18 male\n",
      "2 Bob 23 male\n",
      "3 Mary 17 female\n",
      "4 Rose 25 female\n",
      "5 Ken 25 male\n",
      "=========================\n",
      "\n"
     ]
    }
   ],
   "source": [
    "#引用套件\n",
    "import json\n",
    "import pymysql\n",
    "import pymysql.cursors\n",
    "\n",
    "#連線資料庫\n",
    "conn = pymysql.connect(host='cc104.mysql.local',\n",
    "                             user='root',\n",
    "                             password='hahaha',\n",
    "                             charset='utf8mb4')\n",
    " \n",
    "#輸出資料庫版本至畫面上確認\n",
    "print(\"=\"*25+\"\\n已連結~~\\nMysql版本為：\",conn.server_version)\n",
    "# 獲取游標\n",
    "cursor = conn.cursor()\n",
    "print(\"=\"*25+\"\\n\")\n",
    "# 確認是否有test3資料庫，若有刪除\n",
    "cursor.execute(\"drop database if exists test3\")\n",
    "# 確認是否有test3資料庫，建立一個新的test3資料庫\n",
    "cursor.execute(\"create database test3 character set 'utf8' collate utf8_general_ci\")\n",
    "print(\"已重新建立test3资料库~~\\n\"+\"=\"*25+\"\\n\")\n",
    "\n",
    "# 確認是否有haha資料表，若有刪除\n",
    "#cursor.execute('drop table if exists haha')\n",
    "\n",
    "#用sql建表語句，建立資料表欄位(3欄)\n",
    "sql = '''create table test3.haha(\n",
    "    id int not null auto_increment primary key,\n",
    "    name char(8) not null,\n",
    "    age int not null,\n",
    "    gender char(8) not null)'''\n",
    "cursor.execute(sql)\n",
    "print(\"已重新建立haha資料表~~\\n\"+\"=\"*25+\"\\n\")\n",
    "\n",
    "datalist = {\n",
    "    (1,'Jeo',18,'male'),\n",
    "    (2,'Bob',23,'male'),\n",
    "    (3,'Mary',17,'female'),\n",
    "    (4,'Rose',25,'female'),\n",
    "    (5,'Ken',25,'male')\n",
    "}\n",
    "\n",
    "#定義資料庫語句\n",
    "sql = \"insert into test3.haha values(%s,%s,%s,%s)\"\n",
    "#executemany()插入多條資料\n",
    "cursor.executemany(sql,datalist)\n",
    "#獲取新增資料自增ID\n",
    "print(\"haha資料表~~已重新加入\",cursor.lastrowid,\"筆資料\\n\"+\"=\"*25+\"\\n\")\n",
    "\n",
    "#提交語句到資料庫\n",
    "conn.commit()\n",
    "#選select haha資料表資料\n",
    "cursor.execute('select * from test3.haha')\n",
    "data = cursor.fetchall()\n",
    "#輸出原格式結果到畫面\n",
    "datajson = json.dumps(data)\n",
    "print(\"原格式資料輸出：\\n\",data)\n",
    "print(\"=\"*25+\"\\n格式化輸出:\")\n",
    "#逐個輸出\n",
    "for i in data : \n",
    "    print(i[0],i[1],i[2],i[3])\n",
    "print(\"=\"*25+\"\\n\")\n",
    "\n",
    "#結束連線\n",
    "conn.close()"
   ]
  },
  {
   "cell_type": "code",
   "execution_count": null,
   "metadata": {},
   "outputs": [],
   "source": []
  }
 ],
 "metadata": {
  "kernelspec": {
   "display_name": "Python 3",
   "language": "python",
   "name": "python3"
  },
  "language_info": {
   "codemirror_mode": {
    "name": "ipython",
    "version": 3
   },
   "file_extension": ".py",
   "mimetype": "text/x-python",
   "name": "python",
   "nbconvert_exporter": "python",
   "pygments_lexer": "ipython3",
   "version": "3.7.1"
  }
 },
 "nbformat": 4,
 "nbformat_minor": 2
}
