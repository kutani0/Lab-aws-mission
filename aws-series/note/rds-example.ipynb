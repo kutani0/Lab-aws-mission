{
 "cells": [
  {
   "cell_type": "code",
   "execution_count": 26,
   "metadata": {},
   "outputs": [
    {
     "name": "stdout",
     "output_type": "stream",
     "text": [
      "Requirement already satisfied: PyMySQL in /opt/conda/lib/python3.7/site-packages (0.9.3)\r\n"
     ]
    }
   ],
   "source": [
    "#安裝套件\n",
    "!pip install PyMySQL"
   ]
  },
  {
   "cell_type": "code",
   "execution_count": 27,
   "metadata": {},
   "outputs": [
    {
     "name": "stdout",
     "output_type": "stream",
     "text": [
      "========================================\n",
      "Local time: 2019-02-10 17:37:06.817662+08:00\n",
      "  UTC time:  2019-02-10 09:37:06.819254+00:00\n",
      "========================================\n",
      "<bound method Redis.info of Redis<ConnectionPool<Connection<host=cc104.redis.local,port=6379,db=0>>>> \n",
      "簡單連接~~連線成功~~\n",
      "========================================\n",
      "<bound method ConnectionPool.from_url of <class 'redis.connection.ConnectionPool'>> \n",
      "使用連接池~~連線成功~~\n",
      "========================================\n"
     ]
    }
   ],
   "source": [
    "import redis\n",
    "import pytz\n",
    "import datetime\n",
    "#============================================\n",
    "#取得local time,utc time\n",
    "#print(pytz.country_timezones('tw'))\n",
    "tz = pytz.timezone('Asia/Taipei')\n",
    "utc = pytz.utc\n",
    "print(\"=\"*40)\n",
    "#============================================\n",
    "#簡單連接\n",
    "r_Redis = redis.Redis(\n",
    "    host='cc104.redis.local',\n",
    "    port=6379, \n",
    "    password='haha1234')\n",
    "#使用連接池\n",
    "pool = redis.ConnectionPool(\n",
    "    host='cc104.redis.local',\n",
    "    port=6379, \n",
    "    password='haha1234')\n",
    "r_connpool = redis.ConnectionPool(connection_pool=pool)\n",
    "\n",
    "print(\"Local time:\",datetime.datetime.now(tz))\n",
    "print(\"  UTC time: \",datetime.datetime.now(pytz.utc))\n",
    "print(\"=\"*40)\n",
    "print(r_Redis.info,\"\\n簡單連接~~連線成功~~\")\n",
    "print(\"=\"*40)\n",
    "print(r_connpool.from_url,\"\\n使用連接池~~連線成功~~\")\n",
    "print(\"=\"*40)\n",
    "# ============================================"
   ]
  },
  {
   "cell_type": "code",
   "execution_count": 28,
   "metadata": {},
   "outputs": [
    {
     "name": "stdout",
     "output_type": "stream",
     "text": [
      "b'wahahaha~~'\n"
     ]
    }
   ],
   "source": [
    "#======================================================\n",
    "#存入字串操作\n",
    "value1=r_Redis.set('name', 'wahahaha~~', ex=None, px=None, nx=False, xx=False)\n",
    "#ex過期時間(S)\n",
    "#px過期時間(毫S)\n",
    "#nx為true只有name不存在時，當前set操作才執行\n",
    "#nx為true只有name存在時，當前set操作才執行\n",
    "value2 = r_Redis.get('name')\n",
    "print(value2)\n",
    "#======================================================"
   ]
  },
  {
   "cell_type": "code",
   "execution_count": 29,
   "metadata": {},
   "outputs": [
    {
     "name": "stdout",
     "output_type": "stream",
     "text": [
      "[b'v1', b'v2']\n"
     ]
    }
   ],
   "source": [
    "#======================================================\n",
    "#批量存入字串操作\n",
    "value1=r_Redis.mset({'k1': 'v1', 'k2': 'v2'})\n",
    "print(r_Redis.mget('k1','k2'))\n",
    "#======================================================"
   ]
  },
  {
   "cell_type": "code",
   "execution_count": 30,
   "metadata": {},
   "outputs": [
    {
     "name": "stdout",
     "output_type": "stream",
     "text": [
      "b'world'\n",
      "[b'hello', None]\n",
      "{b'key_1': b'hello', b'202020205': b'hello'}\n"
     ]
    }
   ],
   "source": [
    "#======================================================\n",
    "#hset設置值\n",
    "value0=r_Redis.hset('n1','key_1','hello')\n",
    "value1=r_Redis.hset('n1','202020205','hello')\n",
    "value2=r_Redis.hset('n2','key_2','world')\n",
    "print(r_Redis.hget('n2','key_2'))\n",
    "print(r_Redis.hmget('n1',['202020205','key_2']))\n",
    "print(r_Redis.hgetall('n1'))\n",
    "#======================================================\n",
    "# 參數：hset(name, key, value)\n",
    "# name，redis的name\n",
    "# key，name對應的hash中的key\n",
    "# value，name對應的hash中的value"
   ]
  },
  {
   "cell_type": "code",
   "execution_count": 31,
   "metadata": {},
   "outputs": [
    {
     "name": "stdout",
     "output_type": "stream",
     "text": [
      "菜單17 -已輸入清單資料：\n",
      "==========\n",
      "   小籠包\n",
      "   油條\n",
      "   蛋餅\n",
      "==========\n"
     ]
    }
   ],
   "source": [
    "keyname='菜單17'\n",
    "#======================================================\n",
    "#List操作\n",
    "value0=r_Redis.lpush(keyname,'蛋餅','油條','小籠包')\n",
    "\n",
    "print(keyname,'-已輸入清單資料：')\n",
    "print(\"=\"*10)\n",
    "for i in range(0,r_Redis.llen(keyname)):\n",
    "    print('  ',r_Redis.lindex(keyname,i).decode())\n",
    "print(\"=\"*10)\n",
    "#======================================================"
   ]
  },
  {
   "cell_type": "code",
   "execution_count": 32,
   "metadata": {},
   "outputs": [
    {
     "name": "stdout",
     "output_type": "stream",
     "text": [
      "^=^=^=^=^=^=^=^=^=^=\n",
      "已成功增加： 漢堡\n",
      "^=^=^=^=^=^=^=^=^=^= \n",
      "\n",
      "菜單17 目前清單資料：\n",
      "==========\n",
      "漢堡\n",
      "小籠包\n",
      "油條\n",
      "蛋餅\n",
      "==========\n"
     ]
    }
   ],
   "source": [
    "#======================================================\n",
    "#List操作-新增value\n",
    "x='漢堡'\n",
    "r_Redis.lpush(keyname,'漢堡')\n",
    "print(\"^=\"*10)\n",
    "print('已成功增加：',x)\n",
    "print(\"^=\"*10,'\\n')\n",
    "print(keyname,'目前清單資料：')\n",
    "print(\"=\"*10)\n",
    "for i in range(0,r_Redis.llen(keyname)):\n",
    "    print(r_Redis.lindex(keyname,i).decode())\n",
    "print(\"=\"*10)\n",
    "#======================================================"
   ]
  },
  {
   "cell_type": "code",
   "execution_count": 33,
   "metadata": {},
   "outputs": [
    {
     "name": "stdout",
     "output_type": "stream",
     "text": [
      "^=^=^=^=^=^=^=^=^=^=\n",
      "已成功刪除： 漢堡\n",
      "^=^=^=^=^=^=^=^=^=^= \n",
      "\n",
      "菜單17 目前清單資料：\n",
      "==========\n",
      "小籠包\n",
      "油條\n",
      "蛋餅\n",
      "==========\n"
     ]
    }
   ],
   "source": [
    "#======================================================\n",
    "#List操作-新增value\n",
    "x='漢堡'\n",
    "r_Redis.lrem(keyname,0,x)\n",
    "print(\"^=\"*10)\n",
    "print('已成功刪除：',x)\n",
    "print(\"^=\"*10,'\\n')\n",
    "print(keyname,'目前清單資料：')\n",
    "print(\"=\"*10)\n",
    "for i in range(0,r_Redis.llen(keyname)):\n",
    "    print(r_Redis.lindex(keyname,i).decode())\n",
    "print(\"=\"*10)\n",
    "#======================================================"
   ]
  },
  {
   "cell_type": "code",
   "execution_count": 53,
   "metadata": {},
   "outputs": [
    {
     "name": "stdout",
     "output_type": "stream",
     "text": [
      "請輸查詢第?項(數字): \n",
      "3\n",
      "\n",
      "^=^=^=^=^=^=^=^=^=^=\n",
      "查詢第 3 項為 蛋餅\n",
      "^=^=^=^=^=^=^=^=^=^=\n"
     ]
    }
   ],
   "source": [
    "try:\n",
    "    srh =int(input(\"請輸查詢第?項(數字): \\n\"))\n",
    "except:\n",
    "    print(\"..請輸入正整數..\")\n",
    "try:\n",
    "    ll=r_Redis.lindex(keyname,srh-1)\n",
    "    print('')\n",
    "    print(\"^=\"*10)\n",
    "    print('查詢第',srh,'項為',ll.decode())\n",
    "except:\n",
    "    print(\"..查無資料..\")\n",
    "print(\"^=\"*10)"
   ]
  },
  {
   "cell_type": "code",
   "execution_count": 49,
   "metadata": {},
   "outputs": [
    {
     "name": "stdout",
     "output_type": "stream",
     "text": [
      "[b'10', b'9', b'8', b'7', b'6', b'5', b'4', b'3', b'2', b'1', b'0']\n"
     ]
    }
   ],
   "source": [
    "for x in range(0, 11):\n",
    "    r_Redis.lpush('list', x)\n",
    "    x = x + 1\n",
    "print(r_Redis.lrange('list', '0', '10'))"
   ]
  },
  {
   "cell_type": "code",
   "execution_count": null,
   "metadata": {},
   "outputs": [],
   "source": []
  }
 ],
 "metadata": {
  "kernelspec": {
   "display_name": "Python 3",
   "language": "python",
   "name": "python3"
  },
  "language_info": {
   "codemirror_mode": {
    "name": "ipython",
    "version": 3
   },
   "file_extension": ".py",
   "mimetype": "text/x-python",
   "name": "python",
   "nbconvert_exporter": "python",
   "pygments_lexer": "ipython3",
   "version": "3.7.1"
  }
 },
 "nbformat": 4,
 "nbformat_minor": 2
}
