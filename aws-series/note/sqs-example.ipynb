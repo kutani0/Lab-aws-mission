{
 "cells": [
  {
   "cell_type": "code",
   "execution_count": 1,
   "metadata": {},
   "outputs": [
    {
     "name": "stdout",
     "output_type": "stream",
     "text": [
      "Requirement already satisfied: pytz in /opt/conda/lib/python3.7/site-packages (2018.9)\r\n"
     ]
    }
   ],
   "source": [
    "!pip install pytz"
   ]
  },
  {
   "cell_type": "code",
   "execution_count": 3,
   "metadata": {},
   "outputs": [],
   "source": [
    "# 引用boto3套件\n",
    "import boto3\n",
    "# 引用botocore.exceptions套件中ClientError的方法\n",
    "from botocore.exceptions import ClientError\n",
    "# 引用json套件\n",
    "import json\n",
    "# 引用datetime套件\n",
    "import datetime\n",
    "# 引用pytz套件(可取得local time,utc time)\n",
    "import pytz"
   ]
  },
  {
   "cell_type": "code",
   "execution_count": 4,
   "metadata": {},
   "outputs": [],
   "source": [
    "# 先設定epurl變數為sqs container連線位置，此變數後續可直接在endpoint_url使用\n",
    "epurl=\"http://cc104.sqs.local:9324\"\n",
    "#============================================\n",
    "# 先取得local time,utc time\n",
    "tz = pytz.timezone('Asia/Taipei')\n",
    "utc = pytz.utc\n",
    "i=1\n",
    "#============================================\n",
    "#取得local time,utc time\n",
    "#print(pytz.country_timezones('tw'))\n",
    "tz = pytz.timezone('Asia/Taipei')\n",
    "utc = pytz.utc\n",
    "#============================================"
   ]
  },
  {
   "cell_type": "code",
   "execution_count": 6,
   "metadata": {},
   "outputs": [
    {
     "name": "stdout",
     "output_type": "stream",
     "text": [
      "========================================\n",
      "Local time: 2019-02-10 15:19:13.157024+08:00\n",
      "  UTC time:  2019-02-10 07:19:13.159477+00:00 \n",
      " <botocore.client.SQS object at 0x7fedcef9e048> \n",
      "~~連線成功~~\n",
      "========================================\n"
     ]
    }
   ],
   "source": [
    "print(\"=\"*40)\n",
    "# 用boto3的session方法調用container中.aws/目錄下的環境變數設定檔，並存入變數user_session中\n",
    "user_session=boto3.session.Session(profile_name='user1')\n",
    "# 用client方法連線sqs container\n",
    "client = user_session.client('sqs', endpoint_url=epurl)\n",
    "#連線成功，輸出Local time、UTC time相關訊息\n",
    "print(\"Local time:\",datetime.datetime.now(tz))\n",
    "print(\"  UTC time: \",datetime.datetime.now(pytz.utc),\"\\n\",client,\"\\n~~連線成功~~\")\n",
    "print(\"=\"*40)"
   ]
  },
  {
   "cell_type": "code",
   "execution_count": 24,
   "metadata": {},
   "outputs": [
    {
     "name": "stdout",
     "output_type": "stream",
     "text": [
      "========================================\n",
      "用create_queue方法創建標準queue(QueueName為test2)\n",
      "QueueUrl：  http://cc104.sqs.local:9324/queue/test2 \n",
      "HTTPStatusCode： 200\n",
      "========================================\n"
     ]
    }
   ],
   "source": [
    "# 用create_queue方法創建名為test2的隊列\n",
    "queue = client.create_queue(QueueName='test2', Attributes={'DelaySeconds': '5'})\n",
    "#輸出回應內容\n",
    "print(\"=\"*40)\n",
    "print(\"用create_queue方法創建標準queue(QueueName為test2)\\nQueueUrl： \",queue['QueueUrl'],\"\\nHTTPStatusCode：\",queue['ResponseMetadata']['HTTPStatusCode'])\n",
    "print(\"=\"*40)"
   ]
  },
  {
   "cell_type": "code",
   "execution_count": 25,
   "metadata": {},
   "outputs": [
    {
     "name": "stdout",
     "output_type": "stream",
     "text": [
      "========================================\n",
      "讀取queue(QueueName為test2)\n",
      "Queue2Url： http://cc104.sqs.local:9324/queue/test2\n",
      "ResponseMetadata:\n",
      "{'RequestId': '00000000-0000-0000-0000-000000000000', 'HTTPStatusCode': 200, 'HTTPHeaders': {'server': 'akka-http/10.1.3', 'date': 'Sun, 10 Feb 2019 07:25:59 GMT', 'content-type': 'text/plain; charset=UTF-8', 'content-length': '753'}, 'RetryAttempts': 0}\n",
      "========================================\n"
     ]
    }
   ],
   "source": [
    "#讀取test2隊列\n",
    "client2 = user_session.resource('sqs', endpoint_url=epurl)\n",
    "#輸出回應內容\n",
    "queue1 = client2.get_queue_by_name(QueueName='test2')\n",
    "print(\"=\"*40)\n",
    "print(\"讀取queue(QueueName為test2)\\nQueue2Url：\",queue1.url)\n",
    "response = client.receive_message(QueueUrl=queue1.url)\n",
    "print(\"ResponseMetadata:\")\n",
    "print(response['ResponseMetadata'])\n",
    "print(\"=\"*40)"
   ]
  },
  {
   "cell_type": "code",
   "execution_count": 125,
   "metadata": {},
   "outputs": [
    {
     "name": "stdout",
     "output_type": "stream",
     "text": [
      "========================================\n",
      "傳送 message1至test2隊列...\n",
      "MessageId: 777f2faf-a9b6-4497-b92a-2b2db5a9e9eb\n",
      "MD5OfMessageBody: 56f50a1fb6f14992da7d3dc51d437521 \n",
      "\n",
      "========================================\n",
      "傳送 message2至test2隊列...\n",
      "MessageId: 6224b7b9-e822-4a99-8a0a-f3fb2b1bc712\n",
      "MD5OfMessageBody: c4ae2c026057b20d3d17998d4cb248a0 \n",
      "\n",
      "========================================\n"
     ]
    }
   ],
   "source": [
    "#用send_message方法將message傳送到test2 queue中\n",
    "print(\"=\"*40)\n",
    "#設定單個send Message1的相關屬性並傳送\n",
    "response_s = queue1.send_message(\n",
    "    MessageBody='hahaha~~~Hello',\n",
    "    MessageAttributes={\"msn\":{\"DataType\":\"String\",\"StringValue\":\"communication1\"}},\n",
    ")\n",
    "print(\"傳送 message1至test2隊列...\")\n",
    "print(\"MessageId:\",response_s['MessageId'])\n",
    "print(\"MD5OfMessageBody:\",response_s.get('MD5OfMessageBody'),'\\n')\n",
    "print(\"=\"*40)\n",
    "#設定單個send Message2的相關屬性並傳送\n",
    "response_s = queue1.send_message(\n",
    "    MessageBody='Hello~~~~wahahaha',\n",
    "    MessageAttributes={\"msn\":{\"DataType\":\"String\",\"StringValue\":\"communication2\"}},\n",
    ")\n",
    "print(\"傳送 message2至test2隊列...\")\n",
    "print(\"MessageId:\",response_s.get('MessageId'))\n",
    "print(\"MD5OfMessageBody:\",response_s.get('MD5OfMessageBody'),'\\n')\n",
    "print(\"=\"*40)"
   ]
  },
  {
   "cell_type": "code",
   "execution_count": 126,
   "metadata": {},
   "outputs": [
    {
     "name": "stdout",
     "output_type": "stream",
     "text": [
      "========================================\n",
      "隊列:\t http://cc104.sqs.local:9324/queue/test2\n",
      "訊息 ID:\t 8e0723d9-5e2e-482b-8a9f-ffcaabcfe3ce\n",
      "訊息 Body:\t hahaha~~~Hello\n",
      "訊息 md5 Body:\t 56f50a1fb6f14992da7d3dc51d437521\n",
      "========================================\n"
     ]
    }
   ],
   "source": [
    "#將test2隊列中的message取出(一次只能rolling出一個`)\n",
    "for kk in queue1.receive_messages():\n",
    "    print(\"=\"*40)\n",
    "    try:\n",
    "        print('隊列:\\t',kk.queue_url)\n",
    "        print('訊息 ID:\\t',kk.message_id)\n",
    "        print('訊息 Body:\\t',kk.body)\n",
    "        print('訊息 md5 Body:\\t',kk.md5_of_body)\n",
    "        #kk.delete()\n",
    "    except:\n",
    "        print(\".....\")\n",
    "    print(\"=\"*40)"
   ]
  },
  {
   "cell_type": "code",
   "execution_count": 127,
   "metadata": {},
   "outputs": [
    {
     "name": "stdout",
     "output_type": "stream",
     "text": [
      "communication2 {'StringValue': 'communication2', 'DataType': 'String'}\n",
      "已刪除AttributeNames為msn且內容為 communication2 訊息\n"
     ]
    }
   ],
   "source": [
    "#將test隊列中的message取出\n",
    "for d in queue1.receive_messages(MessageAttributeNames=['msn']):\n",
    "    if d.message_attributes is not None:\n",
    "        ma = d.message_attributes.get('msn').get('StringValue')\n",
    "        mid = d.message_attributes.get('msn')\n",
    "        print(ma,mid)\n",
    "        #d.delete()\n",
    "        print(\"已刪除AttributeNames為msn且內容為\",ma,\"訊息\")"
   ]
  },
  {
   "cell_type": "code",
   "execution_count": 128,
   "metadata": {},
   "outputs": [
    {
     "name": "stdout",
     "output_type": "stream",
     "text": [
      "================================\n",
      "\n",
      "第 1 個 queue ：  http://cc104.sqs.local:9324/queue/test2\n",
      "第 2 個 queue ：  http://cc104.sqs.local:9324/queue/queue1\n",
      "第 3 個 queue ：  http://cc104.sqs.local:9324/queue/test1\n",
      "第 4 個 queue ：  http://cc104.sqs.local:9324/queue/test3\n",
      "================================\n",
      "\n"
     ]
    }
   ],
   "source": [
    "i=1\n",
    "#用for輸出所有queue\n",
    "print(\"================================\\n\")\n",
    "for j in client2.queues.all():\n",
    "    print(\"第\",i,\"個 queue ： \", j.url)\n",
    "    i+=1\n",
    "print(\"================================\\n\")"
   ]
  },
  {
   "cell_type": "code",
   "execution_count": null,
   "metadata": {},
   "outputs": [],
   "source": []
  }
 ],
 "metadata": {
  "kernelspec": {
   "display_name": "Python 3",
   "language": "python",
   "name": "python3"
  },
  "language_info": {
   "codemirror_mode": {
    "name": "ipython",
    "version": 3
   },
   "file_extension": ".py",
   "mimetype": "text/x-python",
   "name": "python",
   "nbconvert_exporter": "python",
   "pygments_lexer": "ipython3",
   "version": "3.7.1"
  }
 },
 "nbformat": 4,
 "nbformat_minor": 2
}
