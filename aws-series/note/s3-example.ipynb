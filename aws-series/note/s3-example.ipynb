{
 "cells": [
  {
   "cell_type": "code",
   "execution_count": 34,
   "metadata": {},
   "outputs": [
    {
     "name": "stdout",
     "output_type": "stream",
     "text": [
      "Requirement already satisfied: pytz in /opt/conda/lib/python3.7/site-packages (2018.9)\r\n"
     ]
    }
   ],
   "source": [
    "!pip install pytz"
   ]
  },
  {
   "cell_type": "code",
   "execution_count": 35,
   "metadata": {},
   "outputs": [],
   "source": [
    "import boto3\n",
    "import botocore\n",
    "from botocore.exceptions import ClientError\n",
    "import json\n",
    "import os\n",
    "import datetime\n",
    "import pytz\n",
    "import calendar\n",
    "\n",
    "# 先設定epurl變數為sqs container連線位置，此變數後續可直接在endpoint_url使用\n",
    "epurl=\"http://cc104.s3.local:4569\"\n",
    "#============================================\n",
    "# 先取得local time,utc time\n",
    "tz = pytz.timezone('Asia/Taipei')\n",
    "utc = pytz.utc\n",
    "i=1\n",
    "#============================================\n",
    "#取得local time,utc time\n",
    "#print(pytz.country_timezones('tw'))\n",
    "tz = pytz.timezone('Asia/Taipei')\n",
    "utc = pytz.utc\n",
    "#============================================"
   ]
  },
  {
   "cell_type": "code",
   "execution_count": 36,
   "metadata": {},
   "outputs": [
    {
     "name": "stdout",
     "output_type": "stream",
     "text": [
      "========================================\n",
      "Local time: 2019-02-10 16:23:08.276573+08:00\n",
      "  UTC time:  2019-02-10 08:23:08.277078+00:00 \n",
      " <botocore.client.S3 object at 0x7fd9dbd15710> \n",
      "~~連線成功~~\n",
      "========================================\n"
     ]
    }
   ],
   "source": [
    "#訪問s3\n",
    "#=================================================\n",
    "print(\"=\"*40)\n",
    "# 用boto3的session方法調用container中.aws/目錄下的環境變數設定檔，並存入變數user_session中\n",
    "user_session=boto3.session.Session(profile_name='user1')\n",
    "# 用client方法連線sqs container\n",
    "client = user_session.client('s3', endpoint_url=epurl)\n",
    "#連線成功，輸出Local time、UTC time相關訊息\n",
    "print(\"Local time:\",datetime.datetime.now(tz))\n",
    "print(\"  UTC time: \",datetime.datetime.now(pytz.utc),\"\\n\",client,\"\\n~~連線成功~~\")\n",
    "print(\"=\"*40)\n",
    "#================================================="
   ]
  },
  {
   "cell_type": "code",
   "execution_count": 39,
   "metadata": {},
   "outputs": [
    {
     "name": "stdout",
     "output_type": "stream",
     "text": [
      "========================================\n",
      "已創建桶子: s3.Bucket(name='butest1')\n",
      "========================================\n"
     ]
    }
   ],
   "source": [
    "#創建s3桶子\n",
    "#=================================================\n",
    "print(\"=\"*40)\n",
    "s3 = user_session.resource('s3', endpoint_url=epurl)\n",
    "Bu=s3.create_bucket(Bucket='butest1')\n",
    "print(\"已創建桶子:\",Bu)\n",
    "#顯示桶子清單(在fake image無效)\n",
    "#=================================================\n",
    "for bucket in s3.buckets.all():\n",
    "    print(\"列出桶子清單：\\n\",bucket)\n",
    "print(\"=\"*40)\n",
    "#================================================="
   ]
  },
  {
   "cell_type": "code",
   "execution_count": 40,
   "metadata": {},
   "outputs": [
    {
     "name": "stdout",
     "output_type": "stream",
     "text": [
      "========================================\n",
      "已往 butest1 上傳檔案： movies.json None 成功\n",
      "========================================\n"
     ]
    }
   ],
   "source": [
    "#往butest1桶子，上傳movies.json\n",
    "#=================================================\n",
    "filename = 'movies.json'\n",
    "BUCKET_NAME = 'butest1'\n",
    "upfile=client.upload_file(filename, bucket_name, filename)\n",
    "print(\"=\"*40)\n",
    "print(\"已往\",BUCKET_NAME,\"上傳檔案：\",filename,upfile,\"成功\")\n",
    "print(\"=\"*40)\n",
    "#================================================="
   ]
  },
  {
   "cell_type": "code",
   "execution_count": 41,
   "metadata": {},
   "outputs": [
    {
     "name": "stdout",
     "output_type": "stream",
     "text": [
      "========================================\n",
      "The object does not exist.\n"
     ]
    }
   ],
   "source": [
    "#在butest1桶子中，下載movies.json\n",
    "#=================================================\n",
    "BUCKET_NAME = 'butest1'\n",
    "KEY = 'movies.json'\n",
    "print(\"=\"*40)\n",
    "try:\n",
    "    downfile=s3.Bucket(BUCKET_NAME).download_file(KEY, './savedata/haha.json')\n",
    "    print(\"已從\",BUCKET_NAME,\"桶子，下傳檔案：\",KEY,downfile,\"成功\")\n",
    "    print(\"=\"*40)\n",
    "except botocore.exceptions.ClientError as e:\n",
    "    if e.response['Error']['Code'] == \"404\":\n",
    "        print(\"The object does not exist.\")\n",
    "    else:\n",
    "        raise"
   ]
  },
  {
   "cell_type": "code",
   "execution_count": 42,
   "metadata": {},
   "outputs": [
    {
     "name": "stdout",
     "output_type": "stream",
     "text": [
      "========================================\n",
      "已從 butest2 桶子，刪除檔案： movies.json 成功\n",
      "\n",
      "{'ResponseMetadata': {'HTTPStatusCode': 204, 'HTTPHeaders': {'server': 'WEBrick/1.4.2 (Ruby/2.6.1/2019-01-30) OpenSSL/1.1.1a', 'date': 'Sun, 10 Feb 2019 08:26:49 GMT', 'connection': 'Keep-Alive'}, 'RetryAttempts': 0}}\n",
      "========================================\n"
     ]
    }
   ],
   "source": [
    "#在butest1桶子中，刪除movies.json\n",
    "#=================================================\n",
    "BUCKET_NAME = 'butest2'\n",
    "KEY = 'movies.json'\n",
    "delfile=client.delete_object(Bucket=bucket_name,Key=KEY)\n",
    "print(\"=\"*40)\n",
    "print(\"已從\",BUCKET_NAME,\"桶子，刪除檔案：\",KEY,\"成功\\n\")\n",
    "print(delfile)\n",
    "print(\"=\"*40)\n",
    "#================================================="
   ]
  },
  {
   "cell_type": "code",
   "execution_count": null,
   "metadata": {},
   "outputs": [],
   "source": []
  }
 ],
 "metadata": {
  "kernelspec": {
   "display_name": "Python 3",
   "language": "python",
   "name": "python3"
  },
  "language_info": {
   "codemirror_mode": {
    "name": "ipython",
    "version": 3
   },
   "file_extension": ".py",
   "mimetype": "text/x-python",
   "name": "python",
   "nbconvert_exporter": "python",
   "pygments_lexer": "ipython3",
   "version": "3.7.1"
  }
 },
 "nbformat": 4,
 "nbformat_minor": 2
}
