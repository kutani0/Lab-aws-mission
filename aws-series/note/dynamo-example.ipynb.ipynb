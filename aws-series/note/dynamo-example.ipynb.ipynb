{
 "cells": [
  {
   "cell_type": "code",
   "execution_count": 20,
   "metadata": {},
   "outputs": [
    {
     "name": "stdout",
     "output_type": "stream",
     "text": [
      "Requirement already satisfied: PyMySQL in /opt/conda/lib/python3.7/site-packages (0.9.3)\n",
      "Requirement already satisfied: boto3 in /opt/conda/lib/python3.7/site-packages (1.9.91)\n",
      "Requirement already satisfied: s3transfer<0.3.0,>=0.2.0 in /opt/conda/lib/python3.7/site-packages (from boto3) (0.2.0)\n",
      "Requirement already satisfied: jmespath<1.0.0,>=0.7.1 in /opt/conda/lib/python3.7/site-packages (from boto3) (0.9.3)\n",
      "Requirement already satisfied: botocore<1.13.0,>=1.12.91 in /opt/conda/lib/python3.7/site-packages (from boto3) (1.12.91)\n",
      "Requirement already satisfied: urllib3<1.25,>=1.20; python_version >= \"3.4\" in /opt/conda/lib/python3.7/site-packages (from botocore<1.13.0,>=1.12.91->boto3) (1.24.1)\n",
      "Requirement already satisfied: docutils>=0.10 in /opt/conda/lib/python3.7/site-packages (from botocore<1.13.0,>=1.12.91->boto3) (0.14)\n",
      "Requirement already satisfied: python-dateutil<3.0.0,>=2.1; python_version >= \"2.7\" in /opt/conda/lib/python3.7/site-packages (from botocore<1.13.0,>=1.12.91->boto3) (2.7.5)\n",
      "Requirement already satisfied: six>=1.5 in /opt/conda/lib/python3.7/site-packages (from python-dateutil<3.0.0,>=2.1; python_version >= \"2.7\"->botocore<1.13.0,>=1.12.91->boto3) (1.12.0)\n"
     ]
    }
   ],
   "source": [
    "#安裝套件\n",
    "!pip install PyMySQL\n",
    "!pip install boto3"
   ]
  },
  {
   "cell_type": "code",
   "execution_count": 21,
   "metadata": {},
   "outputs": [
    {
     "name": "stdout",
     "output_type": "stream",
     "text": [
      "========================================\n",
      "UTC time :  2019-02-10 07:00:24.517119 ~~連線成功~~\n",
      "========================================\n"
     ]
    }
   ],
   "source": [
    "#引用套件\n",
    "import boto3\n",
    "from botocore.exceptions import ClientError\n",
    "import json\n",
    "import os\n",
    "from datetime import datetime \n",
    "\n",
    "import calendar \n",
    "import decimal\n",
    "os.environ[\"TZ\"] = \"UTC\" \n",
    "\n",
    "d = datetime.utcnow()\n",
    "\n",
    "# 先設定endpoint_url\n",
    "epurl=\"http://cc104.dynamodb.local:8000\"\n",
    "\n",
    "# Helper class to convert a DynamoDB item to JSON.\n",
    "class DecimalEncoder(json.JSONEncoder):\n",
    "    def default(self, o):\n",
    "        if isinstance(o, decimal.Decimal):\n",
    "            if abs(o) % 1 > 0:\n",
    "                return float(o)\n",
    "            else:\n",
    "                return int(o)\n",
    "        return super(DecimalEncoder, self).default(o)\n",
    "\n",
    "# 用boto3的session方法調用container中.aws/目錄下的環境變數設定檔，並存入變數user_session中\n",
    "user_session=boto3.session.Session(profile_name='user1')\n",
    "print(\"=\"*40)\n",
    "# boto3透過container的3個aws環境變數，來連線dynamodb\n",
    "dynamodb = user_session.resource('dynamodb', endpoint_url=epurl)\n",
    "print(\"UTC time : \",d,\"~~連線成功~~\")\n",
    "print(\"=\"*40)"
   ]
  },
  {
   "cell_type": "code",
   "execution_count": 22,
   "metadata": {},
   "outputs": [
    {
     "name": "stdout",
     "output_type": "stream",
     "text": [
      "========================================\n",
      "dynamodb.Table(name='Movies3') 資料表: ACTIVE\n",
      "========================================\n"
     ]
    }
   ],
   "source": [
    "# 創建資料表\n",
    "try:\n",
    "    table = dynamodb.create_table(\n",
    "        #設定資料表名稱\n",
    "        TableName='Movies3',\n",
    "        #設定Partition key和sort key\n",
    "        KeySchema=[\n",
    "            {\n",
    "                'AttributeName': 'year',\n",
    "                'KeyType': 'HASH'\n",
    "            },\n",
    "            {\n",
    "                'AttributeName': 'title',\n",
    "                'KeyType': 'RANGE'\n",
    "            }\n",
    "\n",
    "        ],\n",
    "        #Partition key和sort key屬性\n",
    "        AttributeDefinitions=[\n",
    "            {\n",
    "                'AttributeName': 'year',\n",
    "                'AttributeType': 'N'\n",
    "            },\n",
    "            {\n",
    "                'AttributeName': 'title',\n",
    "                'AttributeType': 'S'\n",
    "            }\n",
    "        ],\n",
    "        #設定讀寫能力單元(RCU / WCU 這兩個值會影響效能，也會依據需求收費)\n",
    "        ProvisionedThroughput={\n",
    "            #設定每次讀取單位\n",
    "            'ReadCapacityUnits': 2,\n",
    "            #設定每次寫入單位\n",
    "            'WriteCapacityUnits': 2\n",
    "        }\n",
    "    )\n",
    "    print(\"=\"*40)\n",
    "    table = dynamodb.Table('Movies3')\n",
    "    print(table,\"資料表:\", table.table_status)\n",
    "    print(\"=\"*40)\n",
    "except Exception as err:\n",
    "    print(\"=\"*40)\n",
    "    table = dynamodb.Table('Movies3')\n",
    "    print(table,\"資料表:\", table.table_status)\n",
    "    print(\"=\"*40)"
   ]
  },
  {
   "cell_type": "code",
   "execution_count": 23,
   "metadata": {},
   "outputs": [
    {
     "name": "stdout",
     "output_type": "stream",
     "text": [
      "將json資料導入movie3資料表中:\n",
      "========================================\n",
      "2013 Rush ....新增成功\n",
      "2013 Thor: The Dark World ....新增成功\n",
      "2013 World War Z ....新增成功\n",
      "========================================\n"
     ]
    }
   ],
   "source": [
    "# 載入JSON資料，新增到資料表中\n",
    "print(\"將json資料導入movie3資料表中:\")\n",
    "print(\"=\"*40)\n",
    "with open(\"movies.json\") as json_file:\n",
    "    movies = json.load(json_file, parse_float = decimal.Decimal)\n",
    "    for movie in movies:\n",
    "        year = int(movie['year'])\n",
    "        title = movie['title']\n",
    "        info = movie['info']\n",
    "        table.put_item(\n",
    "           Item={\n",
    "               'year': year,\n",
    "               'title': title,\n",
    "               'info': json.dumps(str(info))\n",
    "            }\n",
    "        )\n",
    "        print(year,title,\"....新增成功\")\n",
    "print(\"=\"*40)"
   ]
  },
  {
   "cell_type": "code",
   "execution_count": 24,
   "metadata": {},
   "outputs": [
    {
     "name": "stdout",
     "output_type": "stream",
     "text": [
      "========================================\n",
      "Item： {\n",
      "    \"ResponseMetadata\": {\n",
      "        \"RequestId\": \"c2ee395e-1db0-4f03-ab9f-a3b352d07d79\",\n",
      "        \"HTTPStatusCode\": 200,\n",
      "        \"HTTPHeaders\": {\n",
      "            \"content-type\": \"application/x-amz-json-1.0\",\n",
      "            \"x-amz-crc32\": \"2745614147\",\n",
      "            \"x-amzn-requestid\": \"c2ee395e-1db0-4f03-ab9f-a3b352d07d79\",\n",
      "            \"content-length\": \"2\",\n",
      "            \"server\": \"Jetty(8.1.12.v20130726)\"\n",
      "        },\n",
      "        \"RetryAttempts\": 0\n",
      "    }\n",
      "} ....新增成功\n",
      "========================================\n"
     ]
    }
   ],
   "source": [
    "# 用put_item方法增加資料到資料表中\n",
    "table = dynamodb.Table('Movies3')\n",
    "title = \"Transformers: Age of Extinction\"\n",
    "year = 2014\n",
    "response = table.put_item(\n",
    "   Item={\n",
    "        'year': year,\n",
    "        'title': title,\n",
    "        'info': {\n",
    "            'plot':\"A mechanic and his daughter make a discovery that brings down Autobots and Decepticons - and a paranoid government official - on them.\",\n",
    "            'rating': decimal.Decimal(0)\n",
    "        }\n",
    "    }\n",
    ")\n",
    "print(\"=\"*40)\n",
    "print(\"Item：\",json.dumps(response, indent=4, cls=DecimalEncoder),\"....新增成功\")\n",
    "print(\"=\"*40)"
   ]
  },
  {
   "cell_type": "code",
   "execution_count": 25,
   "metadata": {},
   "outputs": [
    {
     "name": "stdout",
     "output_type": "stream",
     "text": [
      "查詢 2013 Rush 結果如下:\n",
      "========================================\n",
      "{\n",
      "    \"title\": \"Rush\",\n",
      "    \"year\": 2013,\n",
      "    \"info\": \"\\\"{'directors': ['Ron Howard'], 'release_date': '2013-09-02T00:00:00Z', 'rating': Decimal('8.3'), 'genres': ['Action', 'Biography', 'Drama', 'Sport'], 'image_url': 'http://ia.media-imdb.com/images/M/MV5BMTQyMDE0MTY0OV5BMl5BanBnXkFtZTcwMjI2OTI0OQ@@._V1_SX400_.jpg', 'plot': 'A re-creation of the merciless 1970s rivalry between Formula One rivals James Hunt and Niki Lauda.', 'rank': 2, 'running_time_secs': 7380, 'actors': ['Daniel Bruhl', 'Chris Hemsworth', 'Olivia Wilde']}\\\"\"\n",
      "}\n",
      "========================================\n"
     ]
    }
   ],
   "source": [
    "# 用get_item方法搜尋資料表中的資料\n",
    "title = \"Rush\"\n",
    "year = 2013\n",
    "try:\n",
    "    response = table.get_item(\n",
    "        Key={\n",
    "            'year': year,\n",
    "            'title': title\n",
    "        }\n",
    "    )\n",
    "except ClientError as e:\n",
    "    print(e.response['Error']['Message'])\n",
    "else:\n",
    "    item = response['Item']\n",
    "    print(\"查詢\",year,title,\"結果如下:\")\n",
    "    print(\"=\"*40)\n",
    "    print(json.dumps(item, indent=4, cls=DecimalEncoder))\n",
    "    print(\"=\"*40)"
   ]
  },
  {
   "cell_type": "code",
   "execution_count": 26,
   "metadata": {},
   "outputs": [
    {
     "name": "stdout",
     "output_type": "stream",
     "text": [
      "查詢 2014 Transformers: Age of Extinction 結果如下:\n",
      "========================================\n",
      "{\n",
      "    \"title\": \"Transformers: Age of Extinction\",\n",
      "    \"year\": 2014,\n",
      "    \"info\": {\n",
      "        \"rating\": 0,\n",
      "        \"plot\": \"A mechanic and his daughter make a discovery that brings down Autobots and Decepticons - and a paranoid government official - on them.\"\n",
      "    }\n",
      "}\n",
      "========================================\n"
     ]
    }
   ],
   "source": [
    "# 用get_item方法搜尋資料表中的資料\n",
    "title = \"Transformers: Age of Extinction\"\n",
    "year = 2014\n",
    "try:\n",
    "    response = table.get_item(\n",
    "        Key={\n",
    "            'year': year,\n",
    "            'title': title\n",
    "        }\n",
    "    )\n",
    "except ClientError as e:\n",
    "    print(e.response['Error']['Message'])\n",
    "else:\n",
    "    item = response['Item']\n",
    "    print(\"查詢\",year,title,\"結果如下:\")\n",
    "    print(\"=\"*40)\n",
    "    print(json.dumps(item, indent=4, cls=DecimalEncoder))\n",
    "    print(\"=\"*40)"
   ]
  },
  {
   "cell_type": "code",
   "execution_count": 27,
   "metadata": {},
   "outputs": [
    {
     "name": "stdout",
     "output_type": "stream",
     "text": [
      "資料 2013 Thor: The Dark World 刪除中...\n",
      "========================================\n",
      "{\n",
      "    \"ResponseMetadata\": {\n",
      "        \"RequestId\": \"bce91a9e-880b-4da1-b097-728c35be601c\",\n",
      "        \"HTTPStatusCode\": 200,\n",
      "        \"HTTPHeaders\": {\n",
      "            \"content-type\": \"application/x-amz-json-1.0\",\n",
      "            \"x-amz-crc32\": \"2745614147\",\n",
      "            \"x-amzn-requestid\": \"bce91a9e-880b-4da1-b097-728c35be601c\",\n",
      "            \"content-length\": \"2\",\n",
      "            \"server\": \"Jetty(8.1.12.v20130726)\"\n",
      "        },\n",
      "        \"RetryAttempts\": 0\n",
      "    }\n",
      "}\n",
      "========================================\n"
     ]
    }
   ],
   "source": [
    "# 用delete_item方法刪除資料表中的資料\n",
    "title = \"Thor: The Dark World\"\n",
    "year = 2013\n",
    "print(\"資料\",year,title,\"刪除中...\")\n",
    "print(\"=\"*40)\n",
    "try:\n",
    "    response = table.delete_item(\n",
    "        Key={\n",
    "            'year': year,\n",
    "            'title': title\n",
    "        }\n",
    "    )\n",
    "except ClientError as e:\n",
    "    if e.response['Error']['Code'] == \"ConditionalCheckFailedException\":\n",
    "        print(e.response['Error']['Message'])\n",
    "    else:\n",
    "        raise\n",
    "else:\n",
    "    print(json.dumps(response, indent=4, cls=DecimalEncoder))\n",
    "\n",
    "print(\"=\"*40)"
   ]
  },
  {
   "cell_type": "code",
   "execution_count": 28,
   "metadata": {},
   "outputs": [
    {
     "name": "stdout",
     "output_type": "stream",
     "text": [
      "========================================\n",
      "2013 Thor: The Dark World 查無資料....\n",
      "========================================\n"
     ]
    }
   ],
   "source": [
    "# 用get_item方法搜尋資料表中的資料\n",
    "title = \"Thor: The Dark World\"\n",
    "year = 2013\n",
    "print(\"=\"*40)\n",
    "try:\n",
    "    response = table.get_item(\n",
    "        Key={\n",
    "            'year': year,\n",
    "            'title': title\n",
    "        }\n",
    "    )\n",
    "except ClientError as e:\n",
    "    print(e.response['Error']['Message'])\n",
    "else:\n",
    "    try:\n",
    "        item = response['Item']\n",
    "        print(\"查詢\",year,title,\"結果如下:\\n\")\n",
    "        print(json.dumps(item, indent=4, cls=DecimalEncoder))\n",
    "    except KeyError:\n",
    "        print(year,title,\"查無資料....\")\n",
    "print(\"=\"*40)"
   ]
  },
  {
   "cell_type": "code",
   "execution_count": null,
   "metadata": {},
   "outputs": [],
   "source": []
  }
 ],
 "metadata": {
  "kernelspec": {
   "display_name": "Python 3",
   "language": "python",
   "name": "python3"
  },
  "language_info": {
   "codemirror_mode": {
    "name": "ipython",
    "version": 3
   },
   "file_extension": ".py",
   "mimetype": "text/x-python",
   "name": "python",
   "nbconvert_exporter": "python",
   "pygments_lexer": "ipython3",
   "version": "3.7.1"
  }
 },
 "nbformat": 4,
 "nbformat_minor": 2
}
