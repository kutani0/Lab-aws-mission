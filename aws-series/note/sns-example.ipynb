{
 "cells": [
  {
   "cell_type": "code",
   "execution_count": 1,
   "metadata": {},
   "outputs": [],
   "source": [
    "import boto3\n",
    "from botocore.exceptions import ClientError\n",
    "import json\n",
    "import os\n",
    "import datetime\n",
    "import pytz\n",
    "import calendar \n",
    "import decimal"
   ]
  },
  {
   "cell_type": "code",
   "execution_count": 2,
   "metadata": {},
   "outputs": [],
   "source": [
    "# 先設定epurl變數為sqs container連線位置，此變數後續可直接在endpoint_url使用\n",
    "epurl1=\"http://cc104.sns.local:9911\"\n",
    "epurl2=\"http://cc104.sqs.local:9324\"\n",
    "#============================================\n",
    "# 先取得local time,utc time\n",
    "tz = pytz.timezone('Asia/Taipei')\n",
    "utc = pytz.utc\n",
    "i=1\n",
    "#============================================\n",
    "#取得local time,utc time\n",
    "#print(pytz.country_timezones('tw'))\n",
    "tz = pytz.timezone('Asia/Taipei')\n",
    "utc = pytz.utc\n",
    "#============================================"
   ]
  },
  {
   "cell_type": "code",
   "execution_count": 3,
   "metadata": {},
   "outputs": [
    {
     "name": "stdout",
     "output_type": "stream",
     "text": [
      "========================================\n",
      "Local time: 2019-02-10 17:07:36.796133+08:00\n",
      "  UTC time:  2019-02-10 09:07:36.796595+00:00 \n",
      " <botocore.client.SNS object at 0x7f08b6c09048> ~~連線成功~~\n",
      "========================================\n",
      "Local time: 2019-02-10 17:07:36.814608+08:00\n",
      "  UTC time:  2019-02-10 09:07:36.816105+00:00 \n",
      " <botocore.client.SQS object at 0x7f08b6b824a8> ~~連線成功~~\n",
      "========================================\n"
     ]
    }
   ],
   "source": [
    "#============================================\n",
    "#取得local time,utc time\n",
    "#print(pytz.country_timezones('tw'))\n",
    "tz = pytz.timezone('Asia/Taipei')\n",
    "utc = pytz.utc\n",
    "print(\"=\"*40)\n",
    "# 用boto3的session方法調用container中.aws/目錄下的環境變數設定檔，並存入變數user_session中\n",
    "user_session=boto3.session.Session(profile_name='user1')\n",
    "#============================================\n",
    "# boto3透過container的3個aws環境變數，來連線sqs\n",
    "sns_client = user_session.client('sns', endpoint_url=epurl1)\n",
    "print(\"Local time:\",datetime.datetime.now(tz))\n",
    "print(\"  UTC time: \",datetime.datetime.now(pytz.utc),\"\\n\",sns_client,\"~~連線成功~~\")\n",
    "print(\"=\"*40)\n",
    "# ============================================\n",
    "# boto3透過container的3個aws環境變數，來連線sqs\n",
    "sqs_client = user_session.client('sqs', endpoint_url=epurl2)\n",
    "print(\"Local time:\",datetime.datetime.now(tz))\n",
    "print(\"  UTC time: \",datetime.datetime.now(pytz.utc),\"\\n\",sqs_client,\"~~連線成功~~\")\n",
    "print(\"=\"*40)\n",
    "# ============================================\n",
    "sqs_reso = user_session.resource('sqs', endpoint_url=epurl2)"
   ]
  },
  {
   "cell_type": "code",
   "execution_count": 5,
   "metadata": {},
   "outputs": [
    {
     "name": "stdout",
     "output_type": "stream",
     "text": [
      ".....\n"
     ]
    }
   ],
   "source": [
    "#定義sqs隊列名稱\n",
    "QName='test17'\n",
    "# 用create_queue方法創建test17隊列\n",
    "try:\n",
    "    queue = sqs_client.create_queue(QueueName=QName, Attributes={'DelaySeconds': '5'})\n",
    "    #輸出回應內容\n",
    "    print(\"=\"*40)\n",
    "    print(\"已創建sqs隊列(QueueName為\",QName,\")\\nQueueUrl： \",queue['QueueUrl'],\"\\nHTTPStatusCode：\",queue['ResponseMetadata']['HTTPStatusCode'])\n",
    "    print(\"=\"*40)\n",
    "except:\n",
    "    print(\".....\")"
   ]
  },
  {
   "cell_type": "code",
   "execution_count": 7,
   "metadata": {},
   "outputs": [
    {
     "name": "stdout",
     "output_type": "stream",
     "text": [
      "========================================\n",
      "已建立主題:\n",
      "   my-topic1 \n",
      "\t  topicArn:\n",
      "\t\t\t arn:aws:sns:us-east-1:123456789012:my-topic1\n",
      "   my-topic2 \n",
      "\t  topicArn:\n",
      "\t\t\t arn:aws:sns:us-east-1:123456789012:my-topic2\n",
      "   my-topic3 \n",
      "\t  topicArn:\n",
      "\t\t\t arn:aws:sns:us-east-1:123456789012:my-topic3\n",
      "========================================\n"
     ]
    }
   ],
   "source": [
    "#創建SNS主題\n",
    "Name1='my-topic1'\n",
    "Name2='my-topic2'\n",
    "Name3='my-topic3'\n",
    "topic1 ={'1': 'hahaha'}\n",
    "topic2 ={'2': 'hehehe'}\n",
    "topic3 ={'3': 'wahaha'}\n",
    "response1 = sns_client.create_topic(Name=Name1,Attributes=topic1)\n",
    "response2 = sns_client.create_topic(Name=Name2,Attributes=topic2)\n",
    "response3 = sns_client.create_topic(Name=Name3,Attributes=topic3)\n",
    "print(\"=\"*40)\n",
    "print(\"已建立主題:\")\n",
    "print(\"  \",Name1,\"\\n\\t  topicArn:\\n\\t\\t\\t\",response1['TopicArn'])\n",
    "print(\"  \",Name2,\"\\n\\t  topicArn:\\n\\t\\t\\t\",response2['TopicArn'])\n",
    "print(\"  \",Name3,\"\\n\\t  topicArn:\\n\\t\\t\\t\",response3['TopicArn'])\n",
    "print(\"=\"*40)"
   ]
  },
  {
   "cell_type": "code",
   "execution_count": 8,
   "metadata": {},
   "outputs": [
    {
     "name": "stdout",
     "output_type": "stream",
     "text": [
      "sqs test17 隊列，已訂閱 arn:aws:sns:us-east-1:123456789012:my-topic1 的主題:\n",
      "========================================\n",
      "  ARN:\n",
      "\t arn:aws:sns:us-east-1:123456789012:my-topic1:397bfc7d-1514-44ca-b54b-ced57b3136ed\n",
      "========================================\n",
      "  Metadata:\n",
      "\t {'RequestId': '643c0ffa-f585-4962-b50d-af19cc413894', 'HTTPStatusCode': 200, 'HTTPHeaders': {'server': 'akka-http/10.0.10', 'date': 'Sun, 10 Feb 2019 09:08:56 GMT', 'content-type': 'text/xml; charset=UTF-8', 'content-length': '335'}, 'RetryAttempts': 0}\n",
      "========================================\n"
     ]
    }
   ],
   "source": [
    "ptcl='sqs'\n",
    "#============================================\n",
    "#將sqs的test17隊列訂閱主題my-topic1\n",
    "response = sns_client.subscribe(\n",
    "    TopicArn=response1['TopicArn'],\n",
    "    Protocol=ptcl,\n",
    "    Endpoint='aws-sqs://'+QName+'?amazonSQSEndpoint=http://cc104.sqs.local:9324&accessKey=&secretKey=',\n",
    "    Attributes={\n",
    "        'action': 'hahahahahah'\n",
    "    },\n",
    "    ReturnSubscriptionArn=True\n",
    ")\n",
    "print(ptcl,QName,\"隊列，已訂閱\",response1['TopicArn'],\"的主題:\")\n",
    "print(\"=\"*40)\n",
    "print(\"  ARN:\\n\\t\",response['SubscriptionArn'])\n",
    "print(\"=\"*40)\n",
    "print(\"  Metadata:\\n\\t\",response['ResponseMetadata'])\n",
    "print(\"=\"*40)"
   ]
  },
  {
   "cell_type": "code",
   "execution_count": 9,
   "metadata": {},
   "outputs": [
    {
     "name": "stdout",
     "output_type": "stream",
     "text": [
      "========================================\n",
      "推送訊息MessageId:\n",
      "\t 90c119c9-365a-4019-9e6e-3c1f47f327e6\n",
      "========================================\n",
      "ResponseMetadata:\n",
      "\t {'RequestId': '7d57b27a-e9c3-4c60-b601-fe9f84196e0b', 'HTTPStatusCode': 200, 'HTTPHeaders': {'server': 'akka-http/10.0.10', 'date': 'Sun, 10 Feb 2019 09:09:00 GMT', 'content-type': 'text/xml; charset=UTF-8', 'content-length': '270'}, 'RetryAttempts': 0}\n",
      "========================================\n"
     ]
    }
   ],
   "source": [
    "sqsarn=response1['TopicArn']\n",
    "#============================================\n",
    "#推送訊息至test17隊列\n",
    "resp = sns_client.publish(\n",
    "    TopicArn=sqsarn,\n",
    "    Subject ='sns_test',\n",
    "    Message='Hello World~~~Wahahaha',\n",
    "    MessageAttributes={\n",
    "        'event_type': {\n",
    "            'DataType': 'string',\n",
    "            'StringValue': 'product'\n",
    "        }\n",
    "    }\n",
    ")\n",
    "#輸出訊息MessageId、ResponseMetadata\n",
    "print(\"=\"*40)\n",
    "print(\"推送訊息MessageId:\\n\\t\",resp['MessageId'])\n",
    "print(\"=\"*40)\n",
    "print(\"ResponseMetadata:\\n\\t\",resp['ResponseMetadata'])\n",
    "print(\"=\"*40)"
   ]
  },
  {
   "cell_type": "code",
   "execution_count": 10,
   "metadata": {},
   "outputs": [
    {
     "name": "stdout",
     "output_type": "stream",
     "text": [
      "隊列:\t http://cc104.sqs.local:9324/queue/test17\n",
      "========================================\n",
      "訊息 Body內容:\t {\"MessageId\":\"90c119c9-365a-4019-9e6e-3c1f47f327e6\",\"Message\":\"Hello World~~~Wahahaha\",\"Type\":\"Notification\"}\n",
      "========================================\n",
      "訊息 Message內容:\t Hello World~~~Wahahaha\n",
      "========================================\n",
      "訊息 ID:\t ebc045eb-0e0a-4c2e-8112-51c6f62b2de7\n",
      "訊息 md5 Body:\t 8aa5fa2423a469ccfebb86119ecb5663\n",
      "========================================\n"
     ]
    }
   ],
   "source": [
    "queue1 = sqs_reso.get_queue_by_name(QueueName='test17')\n",
    "\n",
    "#將test隊列中的message取出(一次只能rolling出一個`,有時會'無')\n",
    "for d in queue1.receive_messages():\n",
    "    try:\n",
    "        print('隊列:\\t',d.queue_url)\n",
    "        print(\"=\"*40)\n",
    "        print('訊息 Body內容:\\t',d.body)\n",
    "        print(\"=\"*40)\n",
    "        ma = json.loads(d.body)\n",
    "        print('訊息 Message內容:\\t',ma['Message'])\n",
    "        print(\"=\"*40)\n",
    "        print('訊息 ID:\\t',d.message_id)\n",
    "        print('訊息 md5 Body:\\t',d.md5_of_body)\n",
    "        print(\"=\"*40)\n",
    "        d.delete()\n",
    "    except:\n",
    "        print(\".....\")"
   ]
  },
  {
   "cell_type": "code",
   "execution_count": 11,
   "metadata": {},
   "outputs": [
    {
     "name": "stdout",
     "output_type": "stream",
     "text": [
      "訂閱主題 1 :  my-topic1 \n",
      "\tArn: arn:aws:sns:us-east-1:123456789012:my-topic1:397bfc7d-1514-44ca-b54b-ced57b3136ed \n",
      "\tProtocol: sqs \n",
      "\tEndpoint: aws-sqs://test17?amazonSQSEndpoint=http://cc104.sqs.local:9324&accessKey=&secretKey= \n",
      "\n",
      "\n",
      "訂閱主題 2 :  my-topic1 \n",
      "\tArn: arn:aws:sns:us-east-1:123456789012:my-topic1:25ece3e4-02f2-4d5f-b7e9-95faac806bf7 \n",
      "\tProtocol: sqs \n",
      "\tEndpoint: aws-sqs://test17?amazonSQSEndpoint=http://cc104.sqs.local:9324&accessKey=&secretKey= \n",
      "\n",
      "\n",
      "訂閱主題 3 :  my-topic2 \n",
      "\tArn: arn:aws:sns:us-east-1:123456789012:my-topic2:c921e1c1-5308-4388-a74b-6896dc495f28 \n",
      "\tProtocol: sqs \n",
      "\tEndpoint: aws-sqs://test17?amazonSQSEndpoint=http://cc104.sqs.local:9324&accessKey=&secretKey= \n",
      "\n",
      "\n",
      "訂閱主題 4 :  my-topic3 \n",
      "\tArn: arn:aws:sns:us-east-1:123456789012:my-topic3:c7c1766b-ce90-4853-a8f9-abac466e3b64 \n",
      "\tProtocol: sqs \n",
      "\tEndpoint: aws-sqs://test17?amazonSQSEndpoint=http://cc104.sqs.local:9324&accessKey=&secretKey= \n",
      "\n",
      "\n"
     ]
    }
   ],
   "source": [
    "i=0\n",
    "#已清單的方式列印出訂閱主題\n",
    "lsubscript=sns_client.list_subscriptions().get('Subscriptions')\n",
    "for jj in lsubscript:\n",
    "    try:\n",
    "        print(\"訂閱主題\",i+1,': ',jj['SubscriptionArn'].split(\":\")[5],'\\n\\tArn:',jj['SubscriptionArn'],'\\n\\tProtocol:',jj['Protocol'],'\\n\\tEndpoint:',jj['Endpoint'],\"\\n\\n\")\n",
    "        i+=1\n",
    "    except:\n",
    "        print(\".....\")"
   ]
  },
  {
   "cell_type": "code",
   "execution_count": null,
   "metadata": {},
   "outputs": [],
   "source": []
  }
 ],
 "metadata": {
  "kernelspec": {
   "display_name": "Python 3",
   "language": "python",
   "name": "python3"
  },
  "language_info": {
   "codemirror_mode": {
    "name": "ipython",
    "version": 3
   },
   "file_extension": ".py",
   "mimetype": "text/x-python",
   "name": "python",
   "nbconvert_exporter": "python",
   "pygments_lexer": "ipython3",
   "version": "3.7.1"
  }
 },
 "nbformat": 4,
 "nbformat_minor": 2
}
